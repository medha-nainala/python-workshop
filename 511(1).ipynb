{
 "cells": [
  {
   "cell_type": "code",
   "execution_count": 1,
   "metadata": {
    "collapsed": true
   },
   "outputs": [
    {
     "name": "stdout",
     "output_type": "stream",
     "text": [
      "Enter a value: 7\n",
      "Enter b value: 7\n",
      "The addition of 7 and 7 is  14\n"
     ]
    }
   ],
   "source": [
    "a = int(input(\"Enter a value: \"))\n",
    "b = int(input(\"Enter b value: \"))\n",
    "print (\"The addition of {} and {} is \".format(a,b),a+b)"
   ]
  },
  {
   "cell_type": "code",
   "execution_count": 2,
   "metadata": {
    "scrolled": false
   },
   "outputs": [
    {
     "name": "stdout",
     "output_type": "stream",
     "text": [
      "Enter a value: 7\n",
      "Enter b value: 7\n",
      "The subtraction of 7 and 7 is  0\n"
     ]
    }
   ],
   "source": [
    "a = int(input(\"Enter a value: \"))\n",
    "b = int(input(\"Enter b value: \"))\n",
    "print (\"The subtraction of {} and {} is \".format(a,b),a-b)"
   ]
  },
  {
   "cell_type": "code",
   "execution_count": 3,
   "metadata": {
    "collapsed": true
   },
   "outputs": [
    {
     "name": "stdout",
     "output_type": "stream",
     "text": [
      "Enter a value: 7\n",
      "Enter b value: 7\n",
      "The multiplication of 7 and 7 is  49\n"
     ]
    }
   ],
   "source": [
    "a = int(input(\"Enter a value: \"))\n",
    "b = int(input(\"Enter b value: \"))\n",
    "print (\"The multiplication of {} and {} is \".format(a,b),a*b)"
   ]
  },
  {
   "cell_type": "code",
   "execution_count": 4,
   "metadata": {},
   "outputs": [
    {
     "name": "stdout",
     "output_type": "stream",
     "text": [
      "Enter a value: 7\n",
      "Enter b value: 17\n",
      "The division of 7 and 17 is  0.4117647058823529\n"
     ]
    }
   ],
   "source": [
    "a = int(input(\"Enter a value: \"))\n",
    "b = int(input(\"Enter b value: \"))\n",
    "print (\"The division of {} and {} is \".format(a,b),a/b)"
   ]
  },
  {
   "cell_type": "code",
   "execution_count": 6,
   "metadata": {},
   "outputs": [
    {
     "ename": "SyntaxError",
     "evalue": "invalid syntax (<ipython-input-6-88b9fb4a48da>, line 4)",
     "output_type": "error",
     "traceback": [
      "\u001b[1;36m  File \u001b[1;32m\"<ipython-input-6-88b9fb4a48da>\"\u001b[1;36m, line \u001b[1;32m4\u001b[0m\n\u001b[1;33m    print ('addition of,'a,'+',b,'=',a+b)\u001b[0m\n\u001b[1;37m                         ^\u001b[0m\n\u001b[1;31mSyntaxError\u001b[0m\u001b[1;31m:\u001b[0m invalid syntax\n"
     ]
    }
   ],
   "source": [
    "a = int(input('Enter a value: ')) \n",
    "b = int(input('Enter b value: '))\n",
    "\n",
    "print ('addition of,'a,'+',b,'=',a+b)\n",
    "print('subtract of %d - %d =%d'%(a,b,a-b))\n",
    "print('mul of {} * {} = {}'.format(a,b,a*b))"
   ]
  },
  {
   "cell_type": "markdown",
   "metadata": {},
   "source": [
    "# Relational or comparision\n"
   ]
  },
  {
   "cell_type": "code",
   "execution_count": 4,
   "metadata": {},
   "outputs": [
    {
     "name": "stdout",
     "output_type": "stream",
     "text": [
      "greaterthan--> True\n",
      "lessthan--> False\n",
      "greaterthan or equalsto True\n",
      "lessthan or equalsto False\n",
      "not equalsto True\n",
      "euqalsto True\n"
     ]
    }
   ],
   "source": [
    "print('greaterthan-->',10>5)\n",
    "print('lessthan-->',100<50)\n",
    "print('greaterthan or equalsto',200>=199)\n",
    "print('lessthan or equalsto',199<=100)\n",
    "print('not equalsto',200!=199)\n",
    "print('euqalsto',200==200)"
   ]
  },
  {
   "cell_type": "markdown",
   "metadata": {},
   "source": [
    "# Assignment\n",
    "+=,-=,=,/=,*=,//="
   ]
  },
  {
   "cell_type": "code",
   "execution_count": 9,
   "metadata": {},
   "outputs": [
    {
     "name": "stdout",
     "output_type": "stream",
     "text": [
      "final result is 100\n"
     ]
    }
   ],
   "source": [
    "a=10\n",
    "a+=90\n",
    "a-=50\n",
    "a*=2\n",
    "print('final result is',a)\n"
   ]
  },
  {
   "cell_type": "markdown",
   "metadata": {},
   "source": [
    "# logical operator\n",
    "and,or,not"
   ]
  },
  {
   "cell_type": "code",
   "execution_count": 10,
   "metadata": {},
   "outputs": [
    {
     "name": "stdout",
     "output_type": "stream",
     "text": [
      "False\n",
      "False\n",
      "False\n",
      "True\n"
     ]
    }
   ],
   "source": [
    "# and\n",
    "print(False and False)\n",
    "print(False and True)\n",
    "print(True and False)\n",
    "print(True and True)"
   ]
  },
  {
   "cell_type": "code",
   "execution_count": 11,
   "metadata": {},
   "outputs": [
    {
     "name": "stdout",
     "output_type": "stream",
     "text": [
      "False\n",
      "True\n",
      "True\n",
      "True\n"
     ]
    }
   ],
   "source": [
    "# or\n",
    "print(False or False)\n",
    "print(False or True)\n",
    "print(True or False)\n",
    "print(True or True)"
   ]
  },
  {
   "cell_type": "code",
   "execution_count": 12,
   "metadata": {},
   "outputs": [
    {
     "name": "stdout",
     "output_type": "stream",
     "text": [
      "True\n",
      "True\n",
      "True\n",
      "False\n"
     ]
    }
   ],
   "source": [
    "# not with and\n",
    "print(not(False and False))\n",
    "print(not(False and True))\n",
    "print(not(True and False))\n",
    "print(not(True and True))"
   ]
  },
  {
   "cell_type": "code",
   "execution_count": 13,
   "metadata": {},
   "outputs": [
    {
     "name": "stdout",
     "output_type": "stream",
     "text": [
      "True\n",
      "False\n",
      "False\n",
      "False\n"
     ]
    }
   ],
   "source": [
    "# not with or\n",
    "print(not(False or False))\n",
    "print(not(False or True))\n",
    "print(not(True or False))\n",
    "print(not(True or True))"
   ]
  },
  {
   "cell_type": "markdown",
   "metadata": {},
   "source": [
    "# Membership\n",
    "in,not in"
   ]
  },
  {
   "cell_type": "code",
   "execution_count": 16,
   "metadata": {},
   "outputs": [
    {
     "name": "stdout",
     "output_type": "stream",
     "text": [
      "True\n"
     ]
    }
   ],
   "source": [
    "s=\"Welcome to python workshop\"\n",
    "\n",
    "#print('to' in s)\n",
    "#print('too' in s)\n",
    "print('x' not in s)"
   ]
  },
  {
   "cell_type": "code",
   "execution_count": 20,
   "metadata": {},
   "outputs": [
    {
     "name": "stdout",
     "output_type": "stream",
     "text": [
      "False\n",
      "True\n"
     ]
    }
   ],
   "source": [
    "x='hello'\n",
    "y='hell'\n",
    "print(x is y)\n",
    "print(x is not y)"
   ]
  },
  {
   "cell_type": "markdown",
   "metadata": {},
   "source": [
    "# bitwise operator\n",
    " &,|,^\n",
    " "
   ]
  },
  {
   "cell_type": "code",
   "execution_count": 23,
   "metadata": {},
   "outputs": [
    {
     "data": {
      "text/plain": [
       "'0b10'"
      ]
     },
     "execution_count": 23,
     "metadata": {},
     "output_type": "execute_result"
    }
   ],
   "source": [
    "2&2\n",
    "\n",
    "bin(2)"
   ]
  },
  {
   "cell_type": "code",
   "execution_count": 27,
   "metadata": {},
   "outputs": [
    {
     "data": {
      "text/plain": [
       "'A'"
      ]
     },
     "execution_count": 27,
     "metadata": {},
     "output_type": "execute_result"
    }
   ],
   "source": [
    "2&5\n",
    "\n",
    "5|10\n",
    "bin(5)\n",
    "int('0101',2)\n",
    "\n",
    "ord('A')\n",
    "\n",
    "chr(65)"
   ]
  },
  {
   "cell_type": "code",
   "execution_count": 29,
   "metadata": {},
   "outputs": [
    {
     "name": "stdout",
     "output_type": "stream",
     "text": [
      "Enter a value: 7\n",
      "Enter b value: 7\n",
      "Enter c value: 7\n",
      "Enter d value: 7\n",
      "Enter e value: 7\n",
      "Final result is 7.0\n"
     ]
    }
   ],
   "source": [
    "a = int(input('Enter a value: '))\n",
    "b = int(input('Enter b value: '))\n",
    "c = int(input('Enter c value: '))\n",
    "d = int(input('Enter d value: '))\n",
    "e = int(input('Enter e value: '))\n",
    "result = a/b*c+d-e\n",
    "print(\"Final result is\",result)"
   ]
  },
  {
   "cell_type": "markdown",
   "metadata": {},
   "source": [
    "# Conditional Statements\n",
    "if, elif, else\n",
    "\n",
    "### condition syntax\n",
    "if condition:\n",
    "   statements\n",
    "elif condition:\n",
    "   statement\n",
    "else\n",
    "   statements"
   ]
  },
  {
   "cell_type": "code",
   "execution_count": 32,
   "metadata": {},
   "outputs": [
    {
     "name": "stdout",
     "output_type": "stream",
     "text": [
      "Enter the value:-200\n",
      "200 not odd number\n"
     ]
    }
   ],
   "source": [
    "n = int(input('Enter the value:-'))\n",
    "if n%2!=0:\n",
    "    print(n,'is an odd number')\n",
    "else:\n",
    "    print(n,'not odd number')\n",
    "\n"
   ]
  },
  {
   "cell_type": "code",
   "execution_count": 35,
   "metadata": {},
   "outputs": [
    {
     "name": "stdout",
     "output_type": "stream",
     "text": [
      "Enter value: 7\n",
      "Saturday\n"
     ]
    }
   ],
   "source": [
    "a=n = int(input(\"Enter value: \"))\n",
    "if n==1:\n",
    "    print(\"Sunday\")\n",
    "elif n==2:\n",
    "    print(\"Monday\")\n",
    "elif n==3:\n",
    "    print(\"Tuesday\")\n",
    "elif n==4:\n",
    "    print(\"Wednesday\")\n",
    "elif n==5:\n",
    "    print(\"Thursday\")\n",
    "elif n==6:\n",
    "    print(\"Friday\")\n",
    "elif n==7:\n",
    "    print(\"Saturday\")\n",
    "else:\n",
    "    print(\"Invalid number\")"
   ]
  },
  {
   "cell_type": "code",
   "execution_count": 37,
   "metadata": {
    "scrolled": true
   },
   "outputs": [
    {
     "name": "stdout",
     "output_type": "stream",
     "text": [
      "enter time17.00\n",
      "17.0 GoodAfternoon\n"
     ]
    }
   ],
   "source": [
    "time = float(input('enter time'))\n",
    "if time>=0.0 and time<=12.00:\n",
    "    print(time,'GoodMorning')\n",
    "elif time>=13.0 and time<=17.00:\n",
    "    print(time,'GoodAfternoon')\n",
    "elif time>=18.0 and time<=21.00:\n",
    "    print(time,'GoodEvening')\n",
    "elif time>=22.0 and time<=24.00:\n",
    "    print(time,'GoodNight')"
   ]
  },
  {
   "cell_type": "code",
   "execution_count": 43,
   "metadata": {},
   "outputs": [
    {
     "name": "stdout",
     "output_type": "stream",
     "text": [
      "enter value here: #3@7\n",
      "#3@7 is an special symbol\n"
     ]
    }
   ],
   "source": [
    "n =input('enter value here: ')\n",
    "if (n>='a' and n<='z') or(n>='A' and n<='Z'):\n",
    "    print(n,'is a alphabet')\n",
    "elif n>='0' and n<='9':\n",
    "    print(n,'is a digit')\n",
    "else:\n",
    "    print(n,'is an special symbol')"
   ]
  },
  {
   "cell_type": "code",
   "execution_count": null,
   "metadata": {
    "collapsed": true
   },
   "outputs": [
    {
     "name": "stdout",
     "output_type": "stream",
     "text": [
      "\n",
      "Welcome to Python 3.6's help utility!\n",
      "\n",
      "If this is your first time using Python, you should definitely check out\n",
      "the tutorial on the Internet at https://docs.python.org/3.6/tutorial/.\n",
      "\n",
      "Enter the name of any module, keyword, or topic to get help on writing\n",
      "Python programs and using Python modules.  To quit this help utility and\n",
      "return to the interpreter, just type \"quit\".\n",
      "\n",
      "To get a list of available modules, keywords, symbols, or topics, type\n",
      "\"modules\", \"keywords\", \"symbols\", or \"topics\".  Each module also comes\n",
      "with a one-line summary of what it does; to list the modules whose name\n",
      "or summary contain a given string such as \"spam\", type \"modules spam\".\n",
      "\n",
      "help> modules\n",
      "\n",
      "Please wait a moment while I gather a list of all available modules...\n",
      "\n"
     ]
    },
    {
     "name": "stderr",
     "output_type": "stream",
     "text": [
      "c:\\users\\admin\\appdata\\local\\programs\\python\\python36-32\\lib\\site-packages\\IPython\\kernel\\__init__.py:13: ShimWarning: The `IPython.kernel` package has been deprecated since IPython 4.0.You should import from ipykernel or jupyter_client instead.\n",
      "  \"You should import from ipykernel or jupyter_client instead.\", ShimWarning)\n",
      "c:\\users\\admin\\appdata\\local\\programs\\python\\python36-32\\lib\\pkgutil.py:107: VisibleDeprecationWarning: zmq.eventloop.minitornado is deprecated in pyzmq 14.0 and will be removed.\n",
      "    Install tornado itself to use zmq with the tornado IOLoop.\n",
      "    \n",
      "  yield from walk_packages(path, info.name+'.', onerror)\n"
     ]
    },
    {
     "name": "stdout",
     "output_type": "stream",
     "text": [
      "IPython             calendar            modulefinder        symtable\n",
      "__future__          cffi                msilib              sys\n",
      "_ast                cgi                 msvcrt              sysconfig\n",
      "_asyncio            cgitb               multiprocessing     tabnanny\n",
      "_bisect             chunk               nbclient            tarfile\n",
      "_blake2             cmath               nbconvert           telnetlib\n",
      "_bootlocale         cmd                 nbformat            tempfile\n",
      "_bz2                code                nest_asyncio        terminado\n",
      "_cffi_backend       codecs              netbios             test\n",
      "_codecs             codeop              netrc               testpath\n",
      "_codecs_cn          collections         nntplib             tests\n",
      "_codecs_hk          colorama            notebook            textwrap\n",
      "_codecs_iso2022     colorsys            nt                  this\n",
      "_codecs_jp          commctrl            ntpath              threading\n",
      "_codecs_kr          compileall          ntsecuritycon       time\n",
      "_codecs_tw          concurrent          nturl2path          timeit\n",
      "_collections        configparser        numbers             timer\n",
      "_collections_abc    contextlib          odbc                tkinter\n",
      "_compat_pickle      copy                opcode              token\n",
      "_compression        copyreg             operator            tokenize\n",
      "_csv                crypt               optparse            tornado\n",
      "_ctypes             csv                 os                  trace\n",
      "_ctypes_test        ctypes              packaging           traceback\n",
      "_datetime           curses              pandocfilters       tracemalloc\n",
      "_decimal            cythonmagic         parser              traitlets\n",
      "_distutils_findvs   datetime            parso               tty\n",
      "_dummy_thread       dateutil            pathlib             turtle\n",
      "_elementtree        dbi                 pdb                 turtledemo\n",
      "_functools          dbm                 perfmon             types\n",
      "_hashlib            dde                 pickle              typing\n",
      "_heapq              decimal             pickleshare         typing_extensions\n",
      "_imp                decorator           pickletools         unicodedata\n",
      "_io                 defusedxml          pip                 unittest\n",
      "_json               difflib             pipes               urllib\n",
      "_locale             dis                 pkg_resources       uu\n",
      "_lsprof             distutils           pkgutil             uuid\n",
      "_lzma               doctest             platform            venv\n",
      "_markupbase         dummy_threading     plistlib            warnings\n",
      "_md5                easy_install        poplib              wave\n",
      "_msi                email               posixpath           wcwidth\n",
      "_multibytecodec     encodings           pprint              weakref\n",
      "_multiprocessing    ensurepip           profile             webbrowser\n",
      "_opcode             entrypoints         prometheus_client   webencodings\n",
      "_operator           enum                prompt_toolkit      widgetsnbextension\n",
      "_osx_support        errno               pstats              win2kras\n",
      "_overlapped         faulthandler        pty                 win32api\n",
      "_pickle             filecmp             py_compile          win32clipboard\n",
      "_pydecimal          fileinput           pyclbr              win32com\n",
      "_pyio               fnmatch             pycparser           win32con\n",
      "_pyrsistent_version formatter           pydoc               win32console\n",
      "_random             fractions           pydoc_data          win32cred\n",
      "_sha1               ftplib              pyexpat             win32crypt\n",
      "_sha256             functools           pygments            win32cryptcon\n",
      "_sha3               gc                  pyparsing           win32event\n",
      "_sha512             genericpath         pyrsistent          win32evtlog\n",
      "_signal             getopt              pythoncom           win32evtlogutil\n",
      "_sitebuiltins       getpass             pywin               win32file\n",
      "_socket             gettext             pywin32_bootstrap   win32gui\n",
      "_sqlite3            glob                pywin32_testutil    win32gui_struct\n",
      "_sre                gzip                pywintypes          win32help\n",
      "_ssl                hashlib             qtconsole           win32inet\n",
      "_stat               heapq               qtpy                win32inetcon\n",
      "_string             hmac                queue               win32job\n",
      "_strptime           html                quopri              win32lz\n",
      "_struct             http                random              win32net\n",
      "_symtable           idlelib             rasutil             win32netcon\n",
      "_testbuffer         imaplib             re                  win32pdh\n",
      "_testcapi           imghdr              regcheck            win32pdhquery\n",
      "_testconsole        imp                 regutil             win32pdhutil\n",
      "_testimportmultiple importlib           reprlib             win32pipe\n",
      "_testmultiphase     importlib_metadata  rlcompleter         win32print\n",
      "_thread             inspect             rmagic              win32process\n",
      "_threading_local    io                  runpy               win32profile\n",
      "_tkinter            ipaddress           sched               win32ras\n",
      "_tracemalloc        ipykernel           secrets             win32rcparser\n",
      "_warnings           ipykernel_launcher  select              win32security\n",
      "_weakref            ipython_genutils    selectors           win32service\n",
      "_weakrefset         ipywidgets          send2trash          win32serviceutil\n",
      "_win32sysloader     isapi               servicemanager      win32timezone\n",
      "_winapi             itertools           setuptools          win32trace\n",
      "_winxptheme         jedi                shelve              win32traceutil\n",
      "abc                 jinja2              shlex               win32transaction\n",
      "adodbapi            json                shutil              win32ts\n",
      "afxres              jsonschema          signal              win32ui\n",
      "aifc                jupyter             site                win32uiole\n",
      "antigravity         jupyter_client      six                 win32verstamp\n",
      "argon2              jupyter_console     smtpd               win32wnet\n",
      "argparse            jupyter_core        smtplib             winerror\n",
      "array               jupyterlab_pygments sndhdr              winioctlcon\n",
      "ast                 jupyterlab_widgets  socket              winnt\n",
      "async_generator     keyword             socketserver        winperf\n",
      "asynchat            lib2to3             sqlite3             winpty\n",
      "asyncio             linecache           sre_compile         winreg\n",
      "asyncore            locale              sre_constants       winsound\n",
      "atexit              logging             sre_parse           winxpgui\n",
      "attr                lzma                ssl                 winxptheme\n",
      "audioop             macpath             sspi                wsgiref\n",
      "autoreload          macurl2path         sspicon             xdrlib\n",
      "backcall            mailbox             stat                xml\n",
      "base64              mailcap             statistics          xmlrpc\n",
      "bdb                 markupsafe          storemagic          xxsubtype\n",
      "binascii            marshal             string              zipapp\n",
      "binhex              math                stringprep          zipfile\n",
      "bisect              mimetypes           struct              zipimport\n",
      "bleach              mistune             subprocess          zipp\n",
      "builtins            mmap                sunau               zlib\n",
      "bz2                 mmapfile            symbol              zmq\n",
      "cProfile            mmsystem            sympyprinting       \n",
      "\n",
      "Enter any module name to get more help.  Or, type \"modules spam\" to search\n",
      "for modules whose name or summary contain the string \"spam\".\n",
      "\n"
     ]
    }
   ],
   "source": [
    "help()"
   ]
  },
  {
   "cell_type": "code",
   "execution_count": 1,
   "metadata": {
    "collapsed": true
   },
   "outputs": [
    {
     "data": {
      "text/plain": [
       "['GetPassWarning',\n",
       " '__all__',\n",
       " '__builtins__',\n",
       " '__cached__',\n",
       " '__doc__',\n",
       " '__file__',\n",
       " '__loader__',\n",
       " '__name__',\n",
       " '__package__',\n",
       " '__spec__',\n",
       " '_raw_input',\n",
       " 'contextlib',\n",
       " 'fallback_getpass',\n",
       " 'getpass',\n",
       " 'getuser',\n",
       " 'io',\n",
       " 'msvcrt',\n",
       " 'os',\n",
       " 'sys',\n",
       " 'unix_getpass',\n",
       " 'warnings',\n",
       " 'win_getpass']"
      ]
     },
     "execution_count": 1,
     "metadata": {},
     "output_type": "execute_result"
    }
   ],
   "source": [
    "import getpass\n",
    "dir(getpass)"
   ]
  },
  {
   "cell_type": "code",
   "execution_count": 3,
   "metadata": {},
   "outputs": [
    {
     "name": "stdout",
     "output_type": "stream",
     "text": [
      "enter username: sai\n",
      "enter password: ········\n",
      "invalid uname or password\n"
     ]
    }
   ],
   "source": [
    "from getpass import getpass\n",
    "\n",
    "username=input('enter username: ')\n",
    "password=getpass('enter password: ')\n",
    "\n",
    "if username ==\"sai\" and password==\"1234\":\n",
    "    print('Welcome, username')\n",
    "    \n",
    "else:\n",
    "    print('invalid uname or password')"
   ]
  },
  {
   "cell_type": "markdown",
   "metadata": {},
   "source": [
    "   # Flow Control Statements\n",
    "   for loop\n",
    "   \n",
    "   ### Syntax\n",
    "   \n",
    "  for variable in range(inclusive,exclusive,step);\n",
    "      print(variable)\n",
    "      \n",
    "  while loop\n",
    "  \n",
    "  # Jumping Statements\n",
    "  break\n",
    "  continue\n",
    "  pass"
   ]
  },
  {
   "cell_type": "code",
   "execution_count": 4,
   "metadata": {},
   "outputs": [
    {
     "name": "stdout",
     "output_type": "stream",
     "text": [
      "0\n",
      "1\n",
      "2\n",
      "3\n"
     ]
    }
   ],
   "source": [
    "#for loop\n",
    "\n",
    "for i in range(3+1):\n",
    "   print(i) "
   ]
  },
  {
   "cell_type": "code",
   "execution_count": 5,
   "metadata": {},
   "outputs": [
    {
     "name": "stdout",
     "output_type": "stream",
     "text": [
      "0-->1-->2-->3-->"
     ]
    }
   ],
   "source": [
    "for i in range(3+1):\n",
    "    print(i,end=\"-->\")"
   ]
  },
  {
   "cell_type": "code",
   "execution_count": 6,
   "metadata": {},
   "outputs": [
    {
     "name": "stdout",
     "output_type": "stream",
     "text": [
      "1,2,3,"
     ]
    }
   ],
   "source": [
    "for j in range(1,3+1):\n",
    "    print(j,end=\",\")"
   ]
  },
  {
   "cell_type": "code",
   "execution_count": 7,
   "metadata": {},
   "outputs": [
    {
     "name": "stdout",
     "output_type": "stream",
     "text": [
      "4,3,2,"
     ]
    }
   ],
   "source": [
    "for k in range(4,1,-1):\n",
    "    print(k,end=\",\")"
   ]
  },
  {
   "cell_type": "code",
   "execution_count": 8,
   "metadata": {},
   "outputs": [
    {
     "name": "stdout",
     "output_type": "stream",
     "text": [
      "1,1,1,1,1,"
     ]
    }
   ],
   "source": [
    "for l in range(0,10,2):\n",
    "    print(1,end=\",\")"
   ]
  },
  {
   "cell_type": "code",
   "execution_count": 2,
   "metadata": {},
   "outputs": [
    {
     "name": "stdout",
     "output_type": "stream",
     "text": [
      "7\n",
      "0 1 2 3 4 5 6 7 "
     ]
    }
   ],
   "source": [
    "n = int(input())\n",
    "for i in range(n+1):\n",
    "    print(i,end=' ')"
   ]
  },
  {
   "cell_type": "code",
   "execution_count": 3,
   "metadata": {},
   "outputs": [
    {
     "name": "stdout",
     "output_type": "stream",
     "text": [
      "7\n",
      "0\n",
      "1\n",
      "3\n",
      "6\n",
      "10\n",
      "15\n",
      "21\n",
      "28\n"
     ]
    }
   ],
   "source": [
    "n = int(input())\n",
    "s = 0\n",
    "for i in range(n+1):\n",
    "    s+=i\n",
    "    print(s)"
   ]
  },
  {
   "cell_type": "code",
   "execution_count": 4,
   "metadata": {},
   "outputs": [
    {
     "name": "stdout",
     "output_type": "stream",
     "text": [
      "7\n"
     ]
    }
   ],
   "source": [
    "n = int(input())\n",
    "for i in range(10,1):\n",
    "    print(i)"
   ]
  },
  {
   "cell_type": "code",
   "execution_count": 13,
   "metadata": {},
   "outputs": [
    {
     "name": "stdout",
     "output_type": "stream",
     "text": [
      " Please enter any Number to find factorial : 5\n",
      "The factorial of 5  = 120\n"
     ]
    }
   ],
   "source": [
    "def factorial(num):\n",
    "    fact = 1\n",
    "\n",
    "    for i in range(1, num + 1):\n",
    "        fact = fact * i\n",
    "\n",
    "    return fact\n",
    "\n",
    "\n",
    "number = int(input(\" Please enter any Number to find factorial : \"))\n",
    "\n",
    "fact= factorial(number)\n",
    "print(\"The factorial of %d  = %d\" %(number, fact))\n"
   ]
  },
  {
   "cell_type": "code",
   "execution_count": 17,
   "metadata": {},
   "outputs": [
    {
     "name": "stdout",
     "output_type": "stream",
     "text": [
      "Enter the table number: 12\n",
      "Enter the tabl number upto: 20\n",
      "12 * 1 = 12 \n",
      "12 * 2 = 12 \n",
      "12 * 3 = 12 \n",
      "12 * 4 = 12 \n",
      "12 * 5 = 12 \n",
      "12 * 6 = 12 \n",
      "12 * 7 = 12 \n",
      "12 * 8 = 12 \n",
      "12 * 9 = 12 \n",
      "12 * 10 = 12 \n",
      "12 * 11 = 12 \n",
      "12 * 12 = 12 \n",
      "12 * 13 = 12 \n",
      "12 * 14 = 12 \n",
      "12 * 15 = 12 \n",
      "12 * 16 = 12 \n",
      "12 * 17 = 12 \n",
      "12 * 18 = 12 \n",
      "12 * 19 = 12 \n",
      "12 * 20 = 12 \n"
     ]
    }
   ],
   "source": [
    "n=int(input(\"Enter the table number: \"))\n",
    "a=int(input(\"Enter the tabl number upto: \"))\n",
    "for i in range(1, a+1):\n",
    "    print(\"{} * {} = {} \".format( n, i, n*1))"
   ]
  },
  {
   "cell_type": "code",
   "execution_count": 20,
   "metadata": {},
   "outputs": [
    {
     "name": "stdout",
     "output_type": "stream",
     "text": [
      "Happy Happy Happy Happy Happy Happy Happy Happy Happy \n"
     ]
    }
   ],
   "source": [
    "print(\"Happy \" *9)"
   ]
  },
  {
   "cell_type": "code",
   "execution_count": 21,
   "metadata": {},
   "outputs": [
    {
     "name": "stdout",
     "output_type": "stream",
     "text": [
      "Medha \n",
      "Medha \n",
      "Medha \n",
      "Medha \n",
      "Medha \n",
      "Medha \n",
      "Medha \n"
     ]
    }
   ],
   "source": [
    "for i in range(7):\n",
    "    print(\"Medha \")"
   ]
  },
  {
   "cell_type": "code",
   "execution_count": 26,
   "metadata": {},
   "outputs": [
    {
     "name": "stdout",
     "output_type": "stream",
     "text": [
      "Enter the number: 10\n",
      "10\n",
      "9\n",
      "8\n",
      "7\n",
      "6\n",
      "5\n",
      "4\n",
      "3\n",
      "2\n",
      "1\n"
     ]
    }
   ],
   "source": [
    "n=int(input(\"Enter the number: \"))\n",
    "for i in range(n, 0,-1):\n",
    "    print(i)"
   ]
  },
  {
   "cell_type": "code",
   "execution_count": 3,
   "metadata": {},
   "outputs": [
    {
     "name": "stdout",
     "output_type": "stream",
     "text": [
      "10\n",
      "9\n",
      "8\n",
      "7\n",
      "6\n",
      "5\n",
      "4\n",
      "3\n",
      "2\n",
      "1\n"
     ]
    }
   ],
   "source": [
    "i=10\n",
    "while i>=1:\n",
    "    print(i)\n",
    "    i -= 1"
   ]
  },
  {
   "cell_type": "code",
   "execution_count": 4,
   "metadata": {},
   "outputs": [
    {
     "name": "stdout",
     "output_type": "stream",
     "text": [
      "10\n",
      "8\n",
      "6\n",
      "4\n",
      "2\n"
     ]
    }
   ],
   "source": [
    "i=10\n",
    "while i>=1:\n",
    "    print(i)\n",
    "    i-=2\n"
   ]
  },
  {
   "cell_type": "code",
   "execution_count": 2,
   "metadata": {},
   "outputs": [
    {
     "name": "stdout",
     "output_type": "stream",
     "text": [
      "Muliplicaton Table \n",
      "1 * 1 = 1\n",
      "1 * 2 = 2\n",
      "1 * 3 = 3\n",
      "1 * 4 = 4\n",
      "1 * 5 = 5\n",
      "1 * 6 = 6\n",
      "1 * 7 = 7\n",
      "1 * 8 = 8\n",
      "1 * 9 = 9\n",
      "1 * 10 = 10\n",
      "======================\n",
      "2 * 1 = 2\n",
      "2 * 2 = 4\n",
      "2 * 3 = 6\n",
      "2 * 4 = 8\n",
      "2 * 5 = 10\n",
      "2 * 6 = 12\n",
      "2 * 7 = 14\n",
      "2 * 8 = 16\n",
      "2 * 9 = 18\n",
      "2 * 10 = 20\n",
      "======================\n",
      "3 * 1 = 3\n",
      "3 * 2 = 6\n",
      "3 * 3 = 9\n",
      "3 * 4 = 12\n",
      "3 * 5 = 15\n",
      "3 * 6 = 18\n",
      "3 * 7 = 21\n",
      "3 * 8 = 24\n",
      "3 * 9 = 27\n",
      "3 * 10 = 30\n",
      "======================\n",
      "4 * 1 = 4\n",
      "4 * 2 = 8\n",
      "4 * 3 = 12\n",
      "4 * 4 = 16\n",
      "4 * 5 = 20\n",
      "4 * 6 = 24\n",
      "4 * 7 = 28\n",
      "4 * 8 = 32\n",
      "4 * 9 = 36\n",
      "4 * 10 = 40\n",
      "======================\n",
      "5 * 1 = 5\n",
      "5 * 2 = 10\n",
      "5 * 3 = 15\n",
      "5 * 4 = 20\n",
      "5 * 5 = 25\n",
      "5 * 6 = 30\n",
      "5 * 7 = 35\n",
      "5 * 8 = 40\n",
      "5 * 9 = 45\n",
      "5 * 10 = 50\n",
      "======================\n",
      "6 * 1 = 6\n",
      "6 * 2 = 12\n",
      "6 * 3 = 18\n",
      "6 * 4 = 24\n",
      "6 * 5 = 30\n",
      "6 * 6 = 36\n",
      "6 * 7 = 42\n",
      "6 * 8 = 48\n",
      "6 * 9 = 54\n",
      "6 * 10 = 60\n",
      "======================\n",
      "7 * 1 = 7\n",
      "7 * 2 = 14\n",
      "7 * 3 = 21\n",
      "7 * 4 = 28\n",
      "7 * 5 = 35\n",
      "7 * 6 = 42\n",
      "7 * 7 = 49\n",
      "7 * 8 = 56\n",
      "7 * 9 = 63\n",
      "7 * 10 = 70\n",
      "======================\n",
      "8 * 1 = 8\n",
      "8 * 2 = 16\n",
      "8 * 3 = 24\n",
      "8 * 4 = 32\n",
      "8 * 5 = 40\n",
      "8 * 6 = 48\n",
      "8 * 7 = 56\n",
      "8 * 8 = 64\n",
      "8 * 9 = 72\n",
      "8 * 10 = 80\n",
      "======================\n",
      "9 * 1 = 9\n",
      "9 * 2 = 18\n",
      "9 * 3 = 27\n",
      "9 * 4 = 36\n",
      "9 * 5 = 45\n",
      "9 * 6 = 54\n",
      "9 * 7 = 63\n",
      "9 * 8 = 72\n",
      "9 * 9 = 81\n",
      "9 * 10 = 90\n",
      "======================\n",
      "10 * 1 = 10\n",
      "10 * 2 = 20\n",
      "10 * 3 = 30\n",
      "10 * 4 = 40\n",
      "10 * 5 = 50\n",
      "10 * 6 = 60\n",
      "10 * 7 = 70\n",
      "10 * 8 = 80\n",
      "10 * 9 = 90\n",
      "10 * 10 = 100\n",
      "======================\n"
     ]
    }
   ],
   "source": [
    "print(\"Muliplicaton Table \")\n",
    "for i in range(1, 11):\n",
    "    for j in range(1,11):\n",
    "        print(\"{0} * {1} = {2}\".format(i,j,i*j))\n",
    "    print(\"======================\")"
   ]
  },
  {
   "cell_type": "code",
   "execution_count": 5,
   "metadata": {},
   "outputs": [
    {
     "name": "stdout",
     "output_type": "stream",
     "text": [
      "Tue Jan  5 11:36:41 2021\n",
      "Tue Jan  5 11:37:41 2021\n",
      "True\n"
     ]
    }
   ],
   "source": [
    "import webbrowser,time\n",
    "totalbreaks = 2\n",
    "count=0\n",
    "while count<totalbreaks:\n",
    "    print(time.ctime())\n",
    "    time.sleep(60)\n",
    "    if count==1:\n",
    "      print(webbrowser.open(\"www.facebook.com\"))\n",
    "    elif count==2:\n",
    "        print(webbrowser.open(\"www.youtube.com\"))\n",
    "    count+=1"
   ]
  },
  {
   "cell_type": "code",
   "execution_count": 7,
   "metadata": {},
   "outputs": [
    {
     "data": {
      "text/plain": [
       "'Tue Jan  5 11:40:32 2021'"
      ]
     },
     "execution_count": 7,
     "metadata": {},
     "output_type": "execute_result"
    }
   ],
   "source": [
    "import time\n",
    "time.ctime()"
   ]
  },
  {
   "cell_type": "code",
   "execution_count": 10,
   "metadata": {},
   "outputs": [
    {
     "name": "stdout",
     "output_type": "stream",
     "text": [
      "1\n",
      "2\n",
      "3\n",
      "4\n",
      "5\n",
      "6\n",
      "7\n",
      "8\n",
      "9\n",
      "10\n"
     ]
    }
   ],
   "source": [
    "i=1\n",
    "while i<=10:\n",
    "    print(i)\n",
    "    i+=1"
   ]
  },
  {
   "cell_type": "code",
   "execution_count": 12,
   "metadata": {
    "scrolled": true
   },
   "outputs": [
    {
     "name": "stdout",
     "output_type": "stream",
     "text": [
      "10\n",
      "11\n",
      "12\n",
      "13\n",
      "14\n",
      "15\n"
     ]
    }
   ],
   "source": [
    "i=10\n",
    "while i<20:\n",
    "    print(i)\n",
    "    if i == 15:\n",
    "        break\n",
    "    else:\n",
    "        i+=1"
   ]
  },
  {
   "cell_type": "code",
   "execution_count": 13,
   "metadata": {},
   "outputs": [
    {
     "name": "stdout",
     "output_type": "stream",
     "text": [
      "hello\n"
     ]
    }
   ],
   "source": [
    "s = 'hello'\n",
    "print(s)"
   ]
  },
  {
   "cell_type": "code",
   "execution_count": 14,
   "metadata": {},
   "outputs": [
    {
     "name": "stdout",
     "output_type": "stream",
     "text": [
      "s\n",
      "s\n",
      "s\n",
      "s\n",
      "s\n"
     ]
    }
   ],
   "source": [
    "s='hello'\n",
    "for i in s:\n",
    "    print('s')"
   ]
  },
  {
   "cell_type": "code",
   "execution_count": 15,
   "metadata": {},
   "outputs": [
    {
     "name": "stdout",
     "output_type": "stream",
     "text": [
      "hello\n",
      "hello\n",
      "hello\n",
      "hello\n",
      "hello\n"
     ]
    }
   ],
   "source": [
    "s='hello'\n",
    "for i in s:\n",
    "    print(s)"
   ]
  },
  {
   "cell_type": "code",
   "execution_count": 16,
   "metadata": {},
   "outputs": [
    {
     "name": "stdout",
     "output_type": "stream",
     "text": [
      "i\n",
      "i\n",
      "i\n",
      "i\n",
      "i\n"
     ]
    }
   ],
   "source": [
    "s='hello'\n",
    "for i in s:\n",
    "    print('i')"
   ]
  },
  {
   "cell_type": "code",
   "execution_count": 17,
   "metadata": {},
   "outputs": [
    {
     "name": "stdout",
     "output_type": "stream",
     "text": [
      "h\n",
      "e\n",
      "l\n",
      "l\n",
      "o\n"
     ]
    }
   ],
   "source": [
    "s='hello'\n",
    "for i in s:\n",
    "    print(i)"
   ]
  },
  {
   "cell_type": "code",
   "execution_count": 18,
   "metadata": {},
   "outputs": [
    {
     "name": "stdout",
     "output_type": "stream",
     "text": [
      "hello"
     ]
    }
   ],
   "source": [
    "s='hello'\n",
    "for i in s:\n",
    "    print(i,end='')"
   ]
  },
  {
   "cell_type": "code",
   "execution_count": 21,
   "metadata": {},
   "outputs": [
    {
     "name": "stdout",
     "output_type": "stream",
     "text": [
      "l\n",
      "l\n"
     ]
    }
   ],
   "source": [
    "s='hello'\n",
    "for i in s:\n",
    "    if i=='l':\n",
    "        print(i)"
   ]
  },
  {
   "cell_type": "code",
   "execution_count": null,
   "metadata": {
    "scrolled": false
   },
   "outputs": [
    {
     "name": "stdout",
     "output_type": "stream",
     "text": [
      "10\n",
      "11\n",
      "12\n",
      "13\n",
      "14\n"
     ]
    }
   ],
   "source": [
    "i=10\n",
    "while i<20:\n",
    "    if i==15:\n",
    "        continue\n",
    "    print(i)\n",
    "    i+=1"
   ]
  },
  {
   "cell_type": "code",
   "execution_count": null,
   "metadata": {},
   "outputs": [],
   "source": []
  }
 ],
 "metadata": {
  "kernelspec": {
   "display_name": "Python 3",
   "language": "python",
   "name": "python3"
  },
  "language_info": {
   "codemirror_mode": {
    "name": "ipython",
    "version": 3
   },
   "file_extension": ".py",
   "mimetype": "text/x-python",
   "name": "python",
   "nbconvert_exporter": "python",
   "pygments_lexer": "ipython3",
   "version": "3.6.5"
  }
 },
 "nbformat": 4,
 "nbformat_minor": 4
}
